<<<<<<< HEAD
﻿import numpy as np
=======
import numpy as np
>>>>>>> 77650cd676b89bb875469f70d93ff90b756b80a4

np.array([[1,2],[3,4]],dtype='int8')

#ضرب ماتریسی با @ یا .dot
a=[[1,2],[3,4]]
b=np.array(a)
np.dot(b,b)

#numpy.multyply() ضرب عضو به عضو در ماتریس
# یا علامت *
a=[[1,2],[3,4]]
b=np.array(a)
b*b



#np.prod(b)  تمام اعضای ان را در هم ضرب میکند

np.prod(b)

# Broadcasting

#عدد 5 رو با تک تک درایه ها جمع کرد
my_array = np.array([1, 2, 3])
my_array + 5


#ایجاد یک ارایه  سه در سه با تمام مقادیر یک
a=np.ones([3,3])
b=np.array([5,6,7])
#گسترش در جهت سطر ها
a+b


#برودکستینگ همزمان برای دو ارایه:
a=np.ones((3,1))
b=np.array([5,6,7])
a+b


#جمع و تفریق:

#جمع اعضای یک ارایه

a=[[1,2],[3,4]]

#جمع کردن اعضای ماتریس a
c=np.sum(a) 
print (c)

#جمع تجمعی
b=np.cumsum(a,axis=0) 
#axis=0 یعنی جمع برای سطر ها اتفاق میفته
#axis=1 یعنی جمع برای ستون ها اتفاق میفته
print(b)



#np.subtract()تفریق

#تقسیم:
# تقسیم هر یک از عضو لیست بر سه
f=np.divide([5,6,7],3) 
print(f)

# اعداد رو به پاییین گرد میکنه
g=np.floor_divide([5,6,7],3)
print(g)




