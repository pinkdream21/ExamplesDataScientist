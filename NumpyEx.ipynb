{
 "cells": [
  {
   "cell_type": "markdown",
   "metadata": {},
   "source": [
    "# Numpy Examples"
   ]
  },
  {
   "cell_type": "code",
   "execution_count": 13,
   "metadata": {},
   "outputs": [],
   "source": [
    "import numpy as np\n"
   ]
  },
  {
   "cell_type": "code",
   "execution_count": 14,
   "metadata": {},
   "outputs": [
    {
     "data": {
      "text/plain": [
       "array([[ 7, 10],\n",
       "       [15, 22]])"
      ]
     },
     "execution_count": 14,
     "metadata": {},
     "output_type": "execute_result"
    }
   ],
   "source": [
    "\n",
    "np.array([[1,2],[3,4]],dtype='int8')\n",
    "\n",
    "#ضرب ماتریسی با @ یا .dot\n",
    "a=[[1,2],[3,4]]\n",
    "b=np.array(a)\n",
    "np.dot(b,b)\n"
   ]
  },
  {
   "cell_type": "code",
   "execution_count": 15,
   "metadata": {},
   "outputs": [
    {
     "data": {
      "text/plain": [
       "array([[ 1,  4],\n",
       "       [ 9, 16]])"
      ]
     },
     "execution_count": 15,
     "metadata": {},
     "output_type": "execute_result"
    }
   ],
   "source": [
    "\n",
    "#numpy.multyply() ضرب عضو به عضو در ماتریس\n",
    "# یا علامت *\n",
    "a=[[1,2],[3,4]]\n",
    "b=np.array(a)\n",
    "b*b\n",
    "\n"
   ]
  },
  {
   "cell_type": "code",
   "execution_count": 16,
   "metadata": {},
   "outputs": [
    {
     "data": {
      "text/plain": [
       "24"
      ]
     },
     "execution_count": 16,
     "metadata": {},
     "output_type": "execute_result"
    }
   ],
   "source": [
    "\n",
    "\n",
    "#np.prod(b)  تمام اعضای ان را در هم ضرب میکند\n",
    "\n",
    "np.prod(b)\n"
   ]
  },
  {
   "cell_type": "code",
   "execution_count": 17,
   "metadata": {},
   "outputs": [
    {
     "data": {
      "text/plain": [
       "array([6, 7, 8])"
      ]
     },
     "execution_count": 17,
     "metadata": {},
     "output_type": "execute_result"
    }
   ],
   "source": [
    "\n",
    "# Broadcasting\n",
    "\n",
    "#عدد 5 رو با تک تک درایه ها جمع کرد\n",
    "my_array = np.array([1, 2, 3])\n",
    "my_array + 5\n",
    "\n"
   ]
  },
  {
   "cell_type": "code",
   "execution_count": 18,
   "metadata": {},
   "outputs": [
    {
     "data": {
      "text/plain": [
       "array([[6., 7., 8.],\n",
       "       [6., 7., 8.],\n",
       "       [6., 7., 8.]])"
      ]
     },
     "execution_count": 18,
     "metadata": {},
     "output_type": "execute_result"
    }
   ],
   "source": [
    "\n",
    "#ایجاد یک ارایه  سه در سه با تمام مقادیر یک\n",
    "a=np.ones([3,3])\n",
    "b=np.array([5,6,7])\n",
    "#گسترش در جهت سطر ها\n",
    "a+b\n",
    "\n"
   ]
  },
  {
   "cell_type": "code",
   "execution_count": 19,
   "metadata": {},
   "outputs": [
    {
     "data": {
      "text/plain": [
       "array([[6., 7., 8.],\n",
       "       [6., 7., 8.],\n",
       "       [6., 7., 8.]])"
      ]
     },
     "execution_count": 19,
     "metadata": {},
     "output_type": "execute_result"
    }
   ],
   "source": [
    "\n",
    "#برودکستینگ همزمان برای دو ارایه:\n",
    "a=np.ones((3,1))\n",
    "b=np.array([5,6,7])\n",
    "a+b\n",
    "\n"
   ]
  },
  {
   "cell_type": "code",
   "execution_count": 20,
   "metadata": {},
   "outputs": [
    {
     "name": "stdout",
     "output_type": "stream",
     "text": [
      "10\n"
     ]
    }
   ],
   "source": [
    "\n",
    "\n",
    "#جمع و تفریق:\n",
    "\n",
    "#جمع اعضای یک ارایه\n",
    "\n",
    "a=[[1,2],[3,4]]\n",
    "\n",
    "#جمع کردن اعضای ماتریس a\n",
    "c=np.sum(a) \n",
    "print (c)"
   ]
  },
  {
   "cell_type": "code",
   "execution_count": 21,
   "metadata": {},
   "outputs": [
    {
     "name": "stdout",
     "output_type": "stream",
     "text": [
      "[[1 2]\n",
      " [4 6]]\n"
     ]
    }
   ],
   "source": [
    "\n",
    "\n",
    "#جمع تجمعی\n",
    "b=np.cumsum(a,axis=0) \n",
    "#axis=0 یعنی جمع برای سطر ها اتفاق میفته\n",
    "#axis=1 یعنی جمع برای ستون ها اتفاق میفته\n",
    "print(b)\n",
    "\n"
   ]
  },
  {
   "cell_type": "code",
   "execution_count": 22,
   "metadata": {},
   "outputs": [
    {
     "name": "stdout",
     "output_type": "stream",
     "text": [
      "[1.66666667 2.         2.33333333]\n"
     ]
    }
   ],
   "source": [
    "\n",
    "\n",
    "#np.subtract()تفریق\n",
    "\n",
    "#تقسیم:\n",
    "# تقسیم هر یک از عضو لیست بر سه\n",
    "f=np.divide([5,6,7],3) \n",
    "print(f)\n"
   ]
  },
  {
   "cell_type": "code",
   "execution_count": 23,
   "metadata": {},
   "outputs": [
    {
     "name": "stdout",
     "output_type": "stream",
     "text": [
      "[1 2 2]\n"
     ]
    }
   ],
   "source": [
    "\n",
    "# اعداد رو به پاییین گرد میکنه\n",
    "g=np.floor_divide([5,6,7],3)\n",
    "print(g)\n",
    "\n",
    "\n",
    "\n",
    "\n"
   ]
  },
  {
   "cell_type": "code",
   "execution_count": null,
   "metadata": {},
   "outputs": [],
   "source": []
  },
  {
   "cell_type": "code",
   "execution_count": null,
   "metadata": {},
   "outputs": [],
   "source": []
  }
 ],
 "metadata": {
  "kernelspec": {
   "display_name": "Python 3",
   "language": "python",
   "name": "python3"
  },
  "language_info": {
   "codemirror_mode": {
    "name": "ipython",
    "version": 3
   },
   "file_extension": ".py",
   "mimetype": "text/x-python",
   "name": "python",
   "nbconvert_exporter": "python",
   "pygments_lexer": "ipython3",
   "version": "3.6.4"
  }
 },
 "nbformat": 4,
 "nbformat_minor": 2
}
